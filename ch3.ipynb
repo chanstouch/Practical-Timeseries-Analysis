{
 "cells": [
  {
   "cell_type": "markdown",
   "metadata": {},
   "source": [
    "# Ch3: Time Series EDA"
   ]
  },
  {
   "cell_type": "markdown",
   "metadata": {},
   "source": [
    "### 시계열 상태 분류\n",
    "- 정상성stationarity: 안정적 상태. 계절성이 없는 등.\n",
    "- 자체 상관self correlation: 시계열 그 자체로 연관성이 있다는 의미. 내부적 상관관계.\n",
    "- 허위상관spurious correlation: 상관관계가 허위라는 의미. 상관관계가 곧 인과관계가 아니다.\n",
    "\n",
    "\n",
    "### 시계열 개념을 적용한 함수들\n",
    "- 롤링 윈도우, 확장 윈도우\n",
    "- 자체상관함수self correlation function\n",
    "- 자기상관함수autocorrelation function \n",
    "- 편자기상관함수partial autocorrelation function\n",
    "\n",
    "### 정상성stationarity의 정의\n",
    "\"모든 시차k에 대해 y_t, y_t+1, ... , y_t+k의 분포가 t에 의존적이지 않다.\" 쉽게 말해 계열의 평균, 분산 변화 여부가 크지 않다.\n",
    "\n",
    "- 통계적 검정: 단위근unit root이 존재하는 선형 시계열은 비정상. 해가 없다고 정상이지는 않음\n",
    "- 가설 검정: 특정 과정의 정상성을 결정하는 시험\n",
    "- ADF확대된 디키-풀러 검정: Augmented Dickey-Fuller. 시계열 정상성을 평가하는 보편적 지표. 시계열에 단위근이 존재한다는 귀무가설null hypthese 를 설정하고 특정 유의도에 따라 기각한다. 즉, 유의도에 따라 단위근의 존재가 기각될 수 있다.\n",
    "- 차수 d의 결합된 계열이 정상이 되기 위해서 d번 차분되어야 함\n",
    "- 검정의 한계를 이해해야: 검정의 대부분은 평균, 분산이 정상인지를 검정하는데 특화되어 있거나 전체 분포보다 일반적인 부분을 검정한다.\n",
    "- KPSS검정: 정상**과정**의 귀무가설 상정\n",
    "- 정상성은 꼭 짚고 넘어가야한다. 비정상 평균, 분산을 사용하면 시간이 지날 수록 모델의 편향, 오차가 달라지고 모델이 유효하지 않게 변한다.\n",
    "- 대표적 정상화 수단: \n",
    "    - log, 제곱근 -> 분산이 변화하는 경우. 두 경우 모두 살펴보는 편이 좋다.\n",
    "    - 차분 -> 추세 변화. 너무 많이 차분하면(3회 이상) 정상성 해결이 어려워짐\n",
    "    - 변환은 가정을 동반\n",
    "        - 데이터가 항상 양positive라는 가정\n",
    "        - 로그, 제곱근 변환 전에 데이터를 이동시켰다면 편향이 의도적으로 추가되거나 편향이 추가되어도 상관 없다는 가정\n",
    "        - 로그, 제곱근 변환은 이상치를 줄이는데, 이 이상치가 중요하지 않다는 가정\n",
    "\n",
    "## 3.2.2. 윈도우 함수 적용: R code 참고\n",
    "\n",
    "\n",
    "\n",
    "\n"
   ]
  },
  {
   "cell_type": "code",
   "execution_count": null,
   "metadata": {},
   "outputs": [],
   "source": []
  }
 ],
 "metadata": {
  "language_info": {
   "name": "python"
  },
  "orig_nbformat": 4
 },
 "nbformat": 4,
 "nbformat_minor": 2
}
