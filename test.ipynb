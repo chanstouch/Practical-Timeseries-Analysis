{
 "cells": [
  {
   "cell_type": "code",
   "execution_count": 1,
   "metadata": {},
   "outputs": [
    {
     "name": "stdout",
     "output_type": "stream",
     "text": [
      "[1] \"vscode에서 R 사용하기\"\n"
     ]
    }
   ],
   "source": [
    "a <- print(\"vscode에서 R 사용하기\")"
   ]
  },
  {
   "cell_type": "code",
   "execution_count": 2,
   "metadata": {},
   "outputs": [
    {
     "name": "stdout",
     "output_type": "stream",
     "text": [
      "package 'zoo' successfully unpacked and MD5 sums checked\n",
      "\n",
      "The downloaded binary packages are in\n",
      "\tC:\\Users\\jung6\\AppData\\Local\\Temp\\RtmpuyTlH1\\downloaded_packages\n"
     ]
    }
   ],
   "source": [
    "install.packages(\"zoo\") "
   ]
  },
  {
   "cell_type": "code",
   "execution_count": 3,
   "metadata": {},
   "outputs": [
    {
     "name": "stdout",
     "output_type": "stream",
     "text": [
      "\n",
      "  There is a binary version available but the source version is later:\n",
      "           binary source needs_compilation\n",
      "data.table 1.14.0 1.14.2              TRUE\n",
      "\n",
      "  Binaries will be installed\n",
      "package 'data.table' successfully unpacked and MD5 sums checked\n",
      "\n",
      "The downloaded binary packages are in\n",
      "\tC:\\Users\\jung6\\AppData\\Local\\Temp\\RtmpuyTlH1\\downloaded_packages\n"
     ]
    }
   ],
   "source": [
    "install.packages(\"data.table\")"
   ]
  },
  {
   "cell_type": "code",
   "execution_count": 18,
   "metadata": {},
   "outputs": [
    {
     "data": {
      "text/plain": [
       "               _                           \n",
       "platform       x86_64-w64-mingw32          \n",
       "arch           x86_64                      \n",
       "os             mingw32                     \n",
       "system         x86_64, mingw32             \n",
       "status                                     \n",
       "major          3                           \n",
       "minor          6.1                         \n",
       "year           2019                        \n",
       "month          07                          \n",
       "day            05                          \n",
       "svn rev        76782                       \n",
       "language       R                           \n",
       "version.string R version 3.6.1 (2019-07-05)\n",
       "nickname       Action of the Toes          "
      ]
     },
     "metadata": {},
     "output_type": "display_data"
    }
   ],
   "source": [
    "R.version"
   ]
  },
  {
   "cell_type": "code",
   "execution_count": 10,
   "metadata": {},
   "outputs": [
    {
     "name": "stdout",
     "output_type": "stream",
     "text": [
      "package 'installr' successfully unpacked and MD5 sums checked\n",
      "\n",
      "The downloaded binary packages are in\n",
      "\tC:\\Users\\jung6\\AppData\\Local\\Temp\\RtmpuyTlH1\\downloaded_packages\n"
     ]
    }
   ],
   "source": [
    "install.packages(\"installr\")"
   ]
  },
  {
   "cell_type": "code",
   "execution_count": 11,
   "metadata": {},
   "outputs": [
    {
     "name": "stderr",
     "output_type": "stream",
     "text": [
      "Warning message:\n",
      "\"package 'installr' was built under R version 3.6.3\"\n",
      "Welcome to installr version 0.23.2\n",
      "\n",
      "More information is available on the installr project website:\n",
      "https://github.com/talgalili/installr/\n",
      "\n",
      "Contact: <tal.galili@gmail.com>\n",
      "Suggestions and bug-reports can be submitted at: https://github.com/talgalili/installr/issues\n",
      "\n",
      "\t\t\tTo suppress this message use:\n",
      "\t\t\tsuppressPackageStartupMessages(library(installr))\n",
      "\n"
     ]
    }
   ],
   "source": [
    "library(installr)"
   ]
  },
  {
   "cell_type": "code",
   "execution_count": 15,
   "metadata": {},
   "outputs": [
    {
     "ename": "ERROR",
     "evalue": "Error in winDialog(type = \"ok\", message = message_text): winDialog() cannot be used non-interactively\n",
     "output_type": "error",
     "traceback": [
      "Error in winDialog(type = \"ok\", message = message_text): winDialog() cannot be used non-interactively\nTraceback:\n",
      "1. check.for.updates.R()",
      "2. winDialog(type = \"ok\", message = message_text)",
      "3. stop(\"winDialog() cannot be used non-interactively\")"
     ]
    }
   ],
   "source": [
    "check.for.updates.R()"
   ]
  },
  {
   "cell_type": "code",
   "execution_count": 14,
   "metadata": {},
   "outputs": [
    {
     "name": "stdout",
     "output_type": "stream",
     "text": [
      "\n",
      "The file was downloaded successfully into:\n",
      " C:\\Users\\jung6\\AppData\\Local\\Temp\\RtmpuyTlH1/R-4.1.3-win.exe \n",
      "\n",
      "Running the installer now...\n",
      "\n",
      "Installation status:  TRUE . Removing the file:\n",
      " C:\\Users\\jung6\\AppData\\Local\\Temp\\RtmpuyTlH1/R-4.1.3-win.exe \n",
      " (In the future, you may keep the file by setting keep_install_file=TRUE) \n"
     ]
    },
    {
     "ename": "ERROR",
     "evalue": "Error in if (!pass_checkMD5sums) {: TRUE/FALSE가 필요한 곳에 값이 없습니다\n",
     "output_type": "error",
     "traceback": [
      "Error in if (!pass_checkMD5sums) {: TRUE/FALSE가 필요한 곳에 값이 없습니다\nTraceback:\n",
      "1. install.R()"
     ]
    }
   ],
   "source": [
    "install.R()"
   ]
  },
  {
   "cell_type": "code",
   "execution_count": 16,
   "metadata": {},
   "outputs": [],
   "source": [
    "require(zoo) # 시계열\n",
    "require(data.table) # 고성능 자료구조"
   ]
  },
  {
   "cell_type": "code",
   "execution_count": 17,
   "metadata": {},
   "outputs": [
    {
     "name": "stderr",
     "output_type": "stream",
     "text": [
      "Warning message:\n",
      "\"package 'unemp' is not available (for R version 3.6.1)\""
     ]
    }
   ],
   "source": [
    "install.packages(\"unemp\")"
   ]
  },
  {
   "cell_type": "code",
   "execution_count": 8,
   "metadata": {},
   "outputs": [
    {
     "ename": "ERROR",
     "evalue": "Error in nrow(unemp): 객체 'unemp'를 찾을 수 없습니다\n",
     "output_type": "error",
     "traceback": [
      "Error in nrow(unemp): 객체 'unemp'를 찾을 수 없습니다\nTraceback:\n",
      "1. sample(1:nrow(unemp), 0.1 * nrow(unemp))",
      "2. nrow(unemp)"
     ]
    }
   ],
   "source": [
    "\n",
    "rand.unemp.idx <- sample(1:nrow(unemp), .1*nrow(unemp))\n",
    "rnad.unemp <- unemp[-rand.unemp.idx]"
   ]
  },
  {
   "cell_type": "code",
   "execution_count": null,
   "metadata": {},
   "outputs": [],
   "source": []
  }
 ],
 "metadata": {
  "interpreter": {
   "hash": "a3e4669443d508bc8768b4e434e6951a8eff2347563b2b145c5f558da9ea4b97"
  },
  "kernelspec": {
   "display_name": "R",
   "language": "R",
   "name": "ir"
  },
  "language_info": {
   "codemirror_mode": "r",
   "file_extension": ".r",
   "mimetype": "text/x-r-source",
   "name": "R",
   "pygments_lexer": "r",
   "version": "3.6.1"
  },
  "orig_nbformat": 4
 },
 "nbformat": 4,
 "nbformat_minor": 2
}
